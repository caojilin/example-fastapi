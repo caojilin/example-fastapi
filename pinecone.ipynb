{
 "cells": [
  {
   "cell_type": "code",
   "execution_count": 1,
   "metadata": {},
   "outputs": [],
   "source": [
    "# Import the Pinecone library\n",
    "from pinecone.grpc import PineconeGRPC as Pinecone\n",
    "from pinecone import ServerlessSpec\n",
    "import time\n",
    "from pathlib import Path\n",
    "import pandas as pd\n",
    "pc = Pinecone(api_key=\"pcsk_368Tpa_ULGYwn74G43mBVq1hEUaaReNWtM38AFjwhU3cpJjKvpXqaV4GxJDGWaY12tagMR\")"
   ]
  },
  {
   "cell_type": "code",
   "execution_count": 4,
   "metadata": {},
   "outputs": [],
   "source": [
    "\n",
    "# # Initialize a Pinecone client with your API key\n",
    "# pc = Pinecone(api_key=\"pcsk_368Tpa_ULGYwn74G43mBVq1hEUaaReNWtM38AFjwhU3cpJjKvpXqaV4GxJDGWaY12tagMR\")\n",
    "\n",
    "# # Define a sample dataset where each item has a unique ID and piece of text\n",
    "# data = [\n",
    "#     {\"id\": \"vec1\", \"text\": \"Apple is a popular fruit known for its sweetness and crisp texture.\"},\n",
    "#     {\"id\": \"vec2\", \"text\": \"The tech company Apple is known for its innovative products like the iPhone.\"},\n",
    "#     {\"id\": \"vec3\", \"text\": \"Many people enjoy eating apples as a healthy snack.\"},\n",
    "#     {\"id\": \"vec4\", \"text\": \"Apple Inc. has revolutionized the tech industry with its sleek designs and user-friendly interfaces.\"},\n",
    "#     {\"id\": \"vec5\", \"text\": \"An apple a day keeps the doctor away, as the saying goes.\"},\n",
    "#     {\"id\": \"vec6\", \"text\": \"Apple Computer Company was founded on April 1, 1976, by Steve Jobs, Steve Wozniak, and Ronald Wayne as a partnership.\"}\n",
    "# ]\n",
    "\n",
    "# # Convert the text into numerical vectors that Pinecone can index\n",
    "# embeddings = pc.inference.embed(\n",
    "#     model=\"multilingual-e5-large\",\n",
    "#     inputs=[d['text'] for d in data],\n",
    "#     parameters={\"input_type\": \"passage\", \"truncate\": \"END\"}\n",
    "# )\n",
    "\n",
    "# print(embeddings)\n"
   ]
  },
  {
   "cell_type": "code",
   "execution_count": 5,
   "metadata": {},
   "outputs": [
    {
     "name": "stdout",
     "output_type": "stream",
     "text": [
      "Index(['index', 'season', 'episode', 'episode_name', 'director', 'writer',\n",
      "       'character', 'text', 'text_w_direction'],\n",
      "      dtype='object')\n"
     ]
    }
   ],
   "source": [
    "# Get the folder where this script is located\n",
    "df = pd.read_csv(\"schrute.csv\", header=0)\n",
    "df = df.drop(\"Unnamed: 0\", axis=1)\n",
    "print(df.columns)\n",
    "\n",
    "df['lower'] = df['text'].str.lower()\n",
    "df['lower'] = df['lower'].str.strip()\n",
    "# Replace empty strings with NaN and then drop those rows\n",
    "df.replace(pd.NA, \"\", inplace=True)"
   ]
  },
  {
   "cell_type": "code",
   "execution_count": 6,
   "metadata": {},
   "outputs": [],
   "source": [
    "arr = df['text'].tolist()\n",
    "idx = df['index'].tolist()"
   ]
  },
  {
   "cell_type": "code",
   "execution_count": 7,
   "metadata": {},
   "outputs": [],
   "source": [
    "# Create a serverless index\n",
    "index_name = \"the-office\"\n",
    "\n",
    "if not pc.has_index(index_name):\n",
    "    pc.create_index(\n",
    "        name=index_name,\n",
    "        dimension=1024,\n",
    "        metric=\"cosine\",\n",
    "        spec=ServerlessSpec(\n",
    "            cloud='aws', \n",
    "            region='us-east-1'\n",
    "        ) \n",
    "    ) \n",
    "\n",
    "# Wait for the index to be ready\n",
    "while not pc.describe_index(index_name).status['ready']:\n",
    "    time.sleep(1)\n"
   ]
  },
  {
   "cell_type": "code",
   "execution_count": 8,
   "metadata": {},
   "outputs": [],
   "source": [
    "all_embeddings = []\n",
    "for i in range(0, 1496+1, 96):\n",
    "    embeddings = pc.inference.embed(\n",
    "    model=\"multilingual-e5-large\",\n",
    "    inputs=arr[i:i+96],\n",
    "    parameters={\"input_type\": \"passage\", \"truncate\": \"END\"}\n",
    "    )\n",
    "    all_embeddings.append(embeddings)"
   ]
  },
  {
   "cell_type": "code",
   "execution_count": 71,
   "metadata": {},
   "outputs": [],
   "source": [
    "# for i in range(0, 1496+1, 96):\n",
    "#     print(i, i+96)\n",
    "#     for j in range(i, i+96+1):\n",
    "#         print(j)"
   ]
  },
  {
   "cell_type": "code",
   "execution_count": 10,
   "metadata": {},
   "outputs": [],
   "source": [
    "# Target the index where you'll store the vector embeddings\n",
    "\n",
    "# Prepare the records for upsert\n",
    "# Each contains an 'id', the embedding 'values', and the original text as 'metadata'\n",
    "\n",
    "records = []\n",
    "w = 0\n",
    "for i in range(0, 1496+1, 96):\n",
    "    k = 0\n",
    "    for j in range(i, i+96):\n",
    "        records.append({\n",
    "            \"id\": str(df['index'].loc[j].tolist()),\n",
    "            \"values\": all_embeddings[0][k]['values'],\n",
    "            \"metadata\": {'text': df['text'].loc[j]}\n",
    "        })\n",
    "        k += 1\n",
    "    w += 1\n"
   ]
  },
  {
   "cell_type": "code",
   "execution_count": 11,
   "metadata": {},
   "outputs": [
    {
     "data": {
      "text/plain": [
       "(16, 96, 96)"
      ]
     },
     "execution_count": 11,
     "metadata": {},
     "output_type": "execute_result"
    }
   ],
   "source": [
    "len(all_embeddings), len(all_embeddings[0]), len(all_embeddings[-1])"
   ]
  },
  {
   "cell_type": "code",
   "execution_count": 12,
   "metadata": {},
   "outputs": [
    {
     "data": {
      "text/plain": [
       "1536"
      ]
     },
     "execution_count": 12,
     "metadata": {},
     "output_type": "execute_result"
    }
   ],
   "source": [
    "len(records)"
   ]
  },
  {
   "cell_type": "code",
   "execution_count": 3,
   "metadata": {},
   "outputs": [],
   "source": [
    "\n",
    "index = pc.Index(\"the-office\")\n"
   ]
  },
  {
   "cell_type": "code",
   "execution_count": 16,
   "metadata": {},
   "outputs": [],
   "source": [
    "for i in range(0, 1496+1, 96):\n",
    "    # Upsert the records into the index\n",
    "    index.upsert(\n",
    "        vectors=records[i:i+96],\n",
    "        namespace=\"example-namespace\"\n",
    "    )"
   ]
  },
  {
   "cell_type": "code",
   "execution_count": 5,
   "metadata": {},
   "outputs": [
    {
     "name": "stdout",
     "output_type": "stream",
     "text": [
      "{'matches': [{'id': '141',\n",
      "              'metadata': {'text': 'Introduce yourself. Be polite.'},\n",
      "              'score': 0.7969082,\n",
      "              'sparse_values': {'indices': [], 'values': []},\n",
      "              'values': []},\n",
      "             {'id': '237',\n",
      "              'metadata': {'text': \"Mr. Decker, I'm sorry about that. What \"\n",
      "                                   'were you... Can you hold on one second? '\n",
      "                                   'Yeah, just one second. Thanks. Hello? '\n",
      "                                   \"That's it. Perfect. So what I was \"\n",
      "                                   'saying... Hello? Thanks, Dwight.'},\n",
      "              'score': 0.7969082,\n",
      "              'sparse_values': {'indices': [], 'values': []},\n",
      "              'values': []},\n",
      "             {'id': '45',\n",
      "              'metadata': {'text': 'OK...'},\n",
      "              'score': 0.7969082,\n",
      "              'sparse_values': {'indices': [], 'values': []},\n",
      "              'values': []}],\n",
      " 'namespace': 'example-namespace',\n",
      " 'usage': {'read_units': 6}}\n"
     ]
    }
   ],
   "source": [
    "# Define your query\n",
    "query = \" I might just be a basketball machine.\"\n",
    "\n",
    "# Convert the query into a numerical vector that Pinecone can search with\n",
    "query_embedding = pc.inference.embed(\n",
    "    model=\"multilingual-e5-large\",\n",
    "    inputs=[query],\n",
    "    parameters={\n",
    "        \"input_type\": \"query\"\n",
    "    }\n",
    ")\n",
    "\n",
    "# Search the index for the three most similar vectors\n",
    "results = index.query(\n",
    "    namespace=\"example-namespace\",\n",
    "    vector=query_embedding[0].values,\n",
    "    top_k=3,\n",
    "    include_values=False,\n",
    "    include_metadata=True\n",
    ")\n",
    "\n",
    "print(results)\n"
   ]
  },
  {
   "cell_type": "code",
   "execution_count": null,
   "metadata": {},
   "outputs": [
    {
     "data": {
      "text/plain": [
       "{'id': '429',\n",
       " 'metadata': {'text': 'We can go.'},\n",
       " 'score': 0.81124663,\n",
       " 'sparse_values': {'indices': [], 'values': []},\n",
       " 'values': []}"
      ]
     },
     "execution_count": 19,
     "metadata": {},
     "output_type": "execute_result"
    }
   ],
   "source": [
    "results['matches'][0]['id'],"
   ]
  },
  {
   "cell_type": "code",
   "execution_count": 22,
   "metadata": {},
   "outputs": [
    {
     "data": {
      "text/plain": [
       "429"
      ]
     },
     "execution_count": 22,
     "metadata": {},
     "output_type": "execute_result"
    }
   ],
   "source": [
    "int(results['matches'][0]['id'])"
   ]
  },
  {
   "cell_type": "code",
   "execution_count": null,
   "metadata": {},
   "outputs": [
    {
     "data": {
      "text/plain": [
       "[428, 812, 908]"
      ]
     },
     "execution_count": 28,
     "metadata": {},
     "output_type": "execute_result"
    }
   ],
   "source": []
  },
  {
   "cell_type": "code",
   "execution_count": null,
   "metadata": {},
   "outputs": [],
   "source": []
  }
 ],
 "metadata": {
  "kernelspec": {
   "display_name": "fastapi",
   "language": "python",
   "name": "python3"
  },
  "language_info": {
   "codemirror_mode": {
    "name": "ipython",
    "version": 3
   },
   "file_extension": ".py",
   "mimetype": "text/x-python",
   "name": "python",
   "nbconvert_exporter": "python",
   "pygments_lexer": "ipython3",
   "version": "3.12.7"
  }
 },
 "nbformat": 4,
 "nbformat_minor": 2
}
